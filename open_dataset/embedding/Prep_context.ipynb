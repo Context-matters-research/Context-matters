{
 "cells": [
  {
   "cell_type": "code",
   "execution_count": 1,
   "id": "2312dc19-e378-4352-869e-686e0a0539fa",
   "metadata": {},
   "outputs": [],
   "source": [
    "import pandas as pd\n",
    "import os\n",
    "import json\n",
    "import re\n",
    "\n",
    "# Load the content of both JSON files\n",
    "with open(\"Adjusted_Generated_answer_bank_with_context_ids.json\", \"r\") as file:\n",
    "    adjusted_generated = json.load(file)\n",
    "\n",
    "with open(\"input_files/combined_questions_bank.json\", \"r\") as file:\n",
    "    combined_questions = json.load(file)\n",
    "\n",
    "# Create a new list to hold the updated elements\n",
    "updated_elements = []\n",
    "\n",
    "# Loop through each element in the adjusted_generated list\n",
    "for adj_element in adjusted_generated:\n",
    "    question_to_find = adj_element[\"question\"]\n",
    "    context_type_to_find = adj_element[\"context_type\"]\n",
    "\n",
    "    # Find the matching question and context type in the combined_questions list\n",
    "    found=False\n",
    "    for comb_element in combined_questions:\n",
    "        question = comb_element[\"Question\"].lower()  # Convert to lowercase first\n",
    "\n",
    "        # Remove all whitespaces\n",
    "        question_no_spaces = re.sub(r\"\\s+\", \"\", question)\n",
    "        # Remove heading for one question\n",
    "        question_no_heading = re.sub(r\"#17:\\s*graduate\\s*quantum\", \"\", question_no_spaces)\n",
    "        # Remove \"problem:\" if it appears at the beginning\n",
    "        final_question = re.sub(r\"^problem:\", \"\", question_no_heading)\n",
    "        if final_question == re.sub(r\"\\s+\", \"\", question_to_find.lower()):\n",
    "            # Determine the matching context to add based on the context type\n",
    "            if context_type_to_find == \"irrelevant\":\n",
    "                context_to_add = comb_element[\"Irrelevant Context\"]\n",
    "            elif context_type_to_find == \"vague\":\n",
    "                context_to_add = comb_element[\"Vague Context\"]\n",
    "            elif context_type_to_find == \"relevant\":  \n",
    "                context_to_add = comb_element[\"Relevant Context\"]\n",
    "            else:\n",
    "                context_to_add = \"\"\n",
    "            \n",
    "            # Create a new element with added context and append it to the list\n",
    "            new_element = adj_element.copy()\n",
    "            new_element[\"context\"] = context_to_add\n",
    "            updated_elements.append(new_element)\n",
    "            found=True\n",
    "            break  # Exit the loop after finding and handling the matching question\n",
    "    if not found:\n",
    "        print(question_to_find)\n",
    "\n",
    "# Save the new list to a JSON file\n",
    "new_json_path = \"final_question_context_response.json\"\n",
    "with open(new_json_path, \"w\") as file:\n",
    "    json.dump(updated_elements, file, indent=4)\n"
   ]
  },
  {
   "cell_type": "code",
   "execution_count": 5,
   "id": "9ef6574c-a17d-4439-92bd-5fd7a9acc5a3",
   "metadata": {},
   "outputs": [
    {
     "name": "stdout",
     "output_type": "stream",
     "text": [
      "IDs of elements with empty fields:\n"
     ]
    }
   ],
   "source": [
    "# Load the JSON data\n",
    "with open(\"corrected_updated_questionjson.json\", \"r\") as file:\n",
    "    data = json.load(file)\n",
    "\n",
    "# Find and print the IDs of elements with any empty fields\n",
    "ids_with_empty_fields = [element['id'] for element in data if not all(element.values())]\n",
    "\n",
    "print(\"IDs of elements with empty fields:\")\n",
    "for id in ids_with_empty_fields:\n",
    "    print(id)"
   ]
  },
  {
   "cell_type": "code",
   "execution_count": null,
   "id": "117866b5-983c-46b9-a76e-455466577688",
   "metadata": {},
   "outputs": [],
   "source": []
  }
 ],
 "metadata": {
  "kernelspec": {
   "display_name": "Python 3 (ipykernel)",
   "language": "python",
   "name": "python3"
  },
  "language_info": {
   "codemirror_mode": {
    "name": "ipython",
    "version": 3
   },
   "file_extension": ".py",
   "mimetype": "text/x-python",
   "name": "python",
   "nbconvert_exporter": "python",
   "pygments_lexer": "ipython3",
   "version": "3.10.11"
  }
 },
 "nbformat": 4,
 "nbformat_minor": 5
}
